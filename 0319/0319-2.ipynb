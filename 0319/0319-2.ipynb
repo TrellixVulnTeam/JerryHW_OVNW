{
 "cells": [
  {
   "cell_type": "code",
   "execution_count": 1,
   "metadata": {},
   "outputs": [
    {
     "name": "stdout",
     "output_type": "stream",
     "text": [
      "猜數字:3\n",
      "猜數字:7\n",
      "猜數字:4\n",
      "猜數字:9\n",
      "猜數字:55\n",
      "猜數字:8\n"
     ]
    }
   ],
   "source": [
    "Number = 8\n",
    "a = True\n",
    "while (a == True):\n",
    "    x =int(input(\"猜數字:\"))\n",
    "    if (x == Number):\n",
    "        a = False"
   ]
  },
  {
   "cell_type": "code",
   "execution_count": null,
   "metadata": {},
   "outputs": [],
   "source": []
  }
 ],
 "metadata": {
  "kernelspec": {
   "display_name": "Python 3",
   "language": "python",
   "name": "python3"
  },
  "language_info": {
   "codemirror_mode": {
    "name": "ipython",
    "version": 3
   },
   "file_extension": ".py",
   "mimetype": "text/x-python",
   "name": "python",
   "nbconvert_exporter": "python",
   "pygments_lexer": "ipython3",
   "version": "3.6.4"
  }
 },
 "nbformat": 4,
 "nbformat_minor": 2
}
