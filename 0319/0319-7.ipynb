{
 "cells": [
  {
   "cell_type": "code",
   "execution_count": 23,
   "metadata": {},
   "outputs": [
    {
     "name": "stdout",
     "output_type": "stream",
     "text": [
      "請輸入第一個數字: 5\n",
      "請輸入第二個數字: 2\n",
      "請選擇動作(+,-,*,/): *\n",
      "10\n"
     ]
    }
   ],
   "source": [
    "def plus(*args):\n",
    "    return sum(args)\n",
    "def subtractfunc(*args):\n",
    "    return args[0]-args[1]\n",
    "def multiplyfunc(*args):\n",
    "    return args[0]*args[1]\n",
    "def dividefunc(*args):\n",
    "    return args[0]/args[1]\n",
    "\n",
    "n1 = int(input(\"請輸入第一個數字: \"))\n",
    "n2 = int(input(\"請輸入第二個數字: \"))\n",
    "t1= input(\"請選擇動作(+,-,*,/): \")\n",
    "if t1 == \"+\":\n",
    "    print(plus(n1,n2))\n",
    "elif t1 == \"-\":\n",
    "    print(subtract(n1,n2))\n",
    "elif t1 == \"*\":\n",
    "    print(multiply(n1,n2))\n",
    "else:\n",
    "    print(divide(n1,n2))"
   ]
  },
  {
   "cell_type": "code",
   "execution_count": null,
   "metadata": {},
   "outputs": [],
   "source": []
  }
 ],
 "metadata": {
  "kernelspec": {
   "display_name": "Python 3",
   "language": "python",
   "name": "python3"
  },
  "language_info": {
   "codemirror_mode": {
    "name": "ipython",
    "version": 3
   },
   "file_extension": ".py",
   "mimetype": "text/x-python",
   "name": "python",
   "nbconvert_exporter": "python",
   "pygments_lexer": "ipython3",
   "version": "3.6.4"
  }
 },
 "nbformat": 4,
 "nbformat_minor": 2
}
