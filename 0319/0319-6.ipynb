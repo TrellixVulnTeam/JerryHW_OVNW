{
 "cells": [
  {
   "cell_type": "code",
   "execution_count": 14,
   "metadata": {},
   "outputs": [
    {
     "data": {
      "text/plain": [
       "'鋼鐵其實也可以參考浩克的顏色'"
      ]
     },
     "execution_count": 14,
     "metadata": {},
     "output_type": "execute_result"
    }
   ],
   "source": [
    "def iron_man_colors(i):\n",
    "    iron_man_color = i\n",
    "    if (iron_man_color == \"紅\"):\n",
    "        return (\"鋼鐵盔甲是red的\")\n",
    "    elif iron_man_color == \"綠\":\n",
    "        return (\"鋼鐵其實也可以參考浩克的顏色\")\n",
    "    elif iron_man_color == \"藍\":\n",
    "        return(\"鋼鐵變成藍精靈好像也不錯\")\n",
    "    else:\n",
    "        return(\"好像沒這種顏色\",iron_man_color)\n",
    "iron_man_colors(\"綠\")"
   ]
  },
  {
   "cell_type": "code",
   "execution_count": null,
   "metadata": {},
   "outputs": [],
   "source": []
  }
 ],
 "metadata": {
  "kernelspec": {
   "display_name": "Python 3",
   "language": "python",
   "name": "python3"
  },
  "language_info": {
   "codemirror_mode": {
    "name": "ipython",
    "version": 3
   },
   "file_extension": ".py",
   "mimetype": "text/x-python",
   "name": "python",
   "nbconvert_exporter": "python",
   "pygments_lexer": "ipython3",
   "version": "3.6.4"
  }
 },
 "nbformat": 4,
 "nbformat_minor": 2
}
