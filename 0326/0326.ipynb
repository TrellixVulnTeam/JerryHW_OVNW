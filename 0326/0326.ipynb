{
 "cells": [
  {
   "cell_type": "code",
   "execution_count": 1,
   "metadata": {},
   "outputs": [
    {
     "name": "stdout",
     "output_type": "stream",
     "text": [
      "輸入數字: 12\n"
     ]
    },
    {
     "data": {
      "text/plain": [
       "[112]"
      ]
     },
     "execution_count": 1,
     "metadata": {},
     "output_type": "execute_result"
    }
   ],
   "source": [
    "inp = int(input(\"輸入數字: \"))\n",
    "list(map(lambda inp : inp +100,[inp]))"
   ]
  },
  {
   "cell_type": "code",
   "execution_count": 2,
   "metadata": {},
   "outputs": [
    {
     "name": "stdout",
     "output_type": "stream",
     "text": [
      "結果: 13\n"
     ]
    },
    {
     "data": {
      "text/plain": [
       "('Multiply: ', 36)"
      ]
     },
     "execution_count": 2,
     "metadata": {},
     "output_type": "execute_result"
    }
   ],
   "source": [
    "def multiply(func):\n",
    "    def new_func(*args,**kwargs):\n",
    "        ans = args[0]*args[1]\n",
    "        func(*args)\n",
    "        return (\"Multiply: \",ans )\n",
    "    return new_func\n",
    "\n",
    "def add_int(arg1,arg2):\n",
    "    return ('結果:',arg1+arg2)\n",
    "\n",
    "@multiply\n",
    "def add_int(arg1,arg2):\n",
    "    return print('結果:',arg1+arg2)\n",
    "\n",
    "add_int(4,9)"
   ]
  },
  {
   "cell_type": "code",
   "execution_count": 3,
   "metadata": {},
   "outputs": [
    {
     "name": "stdout",
     "output_type": "stream",
     "text": [
      "請輸入整數:1.5\n",
      "出錯，請重新輸入\n"
     ]
    }
   ],
   "source": [
    "try:\n",
    "    int(input(\"請輸入整數:\"))\n",
    "except:\n",
    "    print(\"出錯，請重新輸入\")"
   ]
  },
  {
   "cell_type": "code",
   "execution_count": null,
   "metadata": {},
   "outputs": [],
   "source": []
  }
 ],
 "metadata": {
  "kernelspec": {
   "display_name": "Python 3",
   "language": "python",
   "name": "python3"
  },
  "language_info": {
   "codemirror_mode": {
    "name": "ipython",
    "version": 3
   },
   "file_extension": ".py",
   "mimetype": "text/x-python",
   "name": "python",
   "nbconvert_exporter": "python",
   "pygments_lexer": "ipython3",
   "version": "3.6.4"
  }
 },
 "nbformat": 4,
 "nbformat_minor": 2
}
